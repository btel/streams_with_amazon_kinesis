{
 "cells": [
  {
   "cell_type": "markdown",
   "metadata": {},
   "source": [
    "* intro to kinesis\n",
    "* configure your AWS credentials\n",
    "* KCL wordputter\n",
    "* implementing simple processor class (echo)\n",
    "* running processor with MultiLangDaeamon\n",
    "* implementing simple counter (no ordering)\n",
    "* testing with two KCL wordputters with lag (simulating long network delay)\n",
    "* implement counter with buffer"
   ]
  },
  {
   "cell_type": "markdown",
   "metadata": {},
   "source": [
    "# Intro"
   ]
  },
  {
   "cell_type": "markdown",
   "metadata": {},
   "source": [
    "At Sqreen we are using AWS Kinesis service to process data from our agents in near real-time."
   ]
  },
  {
   "cell_type": "markdown",
   "metadata": {},
   "source": [
    "## Requirements"
   ]
  },
  {
   "cell_type": "markdown",
   "metadata": {},
   "source": [
    "Install dependencies:\n",
    "    \n",
    "```\n",
    "pip install aws\n",
    "pip install amazon_kcl\n",
    "```"
   ]
  },
  {
   "cell_type": "markdown",
   "metadata": {},
   "source": [
    "## Creating stream\n"
   ]
  },
  {
   "cell_type": "markdown",
   "metadata": {},
   "source": [
    "To connect to AWS, you must first create your credentials (you will get them from the AWS Console). Then, simply configure them using the following command:\n",
    "\n",
    "```aws configure --profile blogpost-kinesis```\n",
    "\n",
    "`blogpost-kinesis` is the name of the profile you will use for this tutorial. You will need to copy you public and secret access keys obtained from AWS Management Console."
   ]
  },
  {
   "cell_type": "code",
   "execution_count": 1,
   "metadata": {},
   "outputs": [
    {
     "name": "stdout",
     "output_type": "stream",
     "text": [
      "stream blogpost-word-stream created in region eu-west-1\n"
     ]
    }
   ],
   "source": [
    "import boto\n",
    "from boto.kinesis.exceptions import ResourceInUseException\n",
    "import os\n",
    "import time\n",
    "\n",
    "os.environ['AWS_PROFILE'] = 'blogpost-kinesis'\n",
    "\n",
    "stream_name =  'blogpost-word-stream'\n",
    "region = 'eu-west-1'\n",
    "kinesis = boto.kinesis.connect_to_region(region)\n",
    "\n",
    "try:\n",
    "    kinesis.create_stream(stream_name, 1)\n",
    "    print('stream {} created in region {}'.format(stream_name, region))\n",
    "except ResourceInUseException:\n",
    "    print('stream {} already exists in region {}'.format(stream_name, region))\n",
    "\n",
    "def get_status():\n",
    "    r = kinesis.describe_stream(stream_name)\n",
    "    description = r.get('StreamDescription')\n",
    "    status = description.get('StreamStatus')\n",
    "    return status\n",
    "\n",
    "while get_status() != 'ACTIVE':\n",
    "    time.sleep(1)\n"
   ]
  },
  {
   "cell_type": "markdown",
   "metadata": {},
   "source": [
    "# Putting data into streams"
   ]
  },
  {
   "cell_type": "code",
   "execution_count": 2,
   "metadata": {},
   "outputs": [],
   "source": [
    "import datetime\n",
    "import time\n",
    "import threading\n",
    "from boto.kinesis.exceptions import ResourceNotFoundException\n",
    "\n",
    "class KinesisProducer(threading.Thread):\n",
    "    def __init__(self, stream_name, sleep_interval=None, ip_addr='8.8.8.8'):\n",
    "        self.stream_name = stream_name\n",
    "        self.sleep_interval = sleep_interval\n",
    "        self.ip_addr = ip_addr\n",
    "        super().__init__()\n",
    "        \n",
    "    def put_record(self):\n",
    "        timestamp = datetime.datetime.utcnow()\n",
    "\n",
    "        kinesis.put_record(self.stream_name, timestamp.isoformat(), self.ip_addr)\n",
    "    \n",
    "    def run_continously(self):\n",
    "        \"\"\"put a record at regular intervals\"\"\"\n",
    "        while True:\n",
    "            self.put_record()\n",
    "            time.sleep(self.sleep_interval)\n",
    "                \n",
    "    def run(self):\n",
    "        try:\n",
    "            if self.sleep_interval:\n",
    "                self.run_continously()\n",
    "            else:\n",
    "                self.put_record()\n",
    "        except ResourceNotFoundException:\n",
    "            print('stream {} not found. Exiting'.format(self.stream_name))\n",
    "            return"
   ]
  },
  {
   "cell_type": "code",
   "execution_count": 3,
   "metadata": {},
   "outputs": [],
   "source": [
    "producer1 = KinesisProducer(stream_name, sleep_interval=2, ip_addr='8.8.8.8')\n",
    "producer2 = KinesisProducer(stream_name, sleep_interval=5, ip_addr='8.8.8.9')\n",
    "producer1.start()\n",
    "producer2.start()"
   ]
  },
  {
   "cell_type": "markdown",
   "metadata": {},
   "source": [
    "# Consuming from stream"
   ]
  },
  {
   "cell_type": "code",
   "execution_count": 4,
   "metadata": {},
   "outputs": [],
   "source": [
    "from boto.kinesis.exceptions import ProvisionedThroughputExceededException\n",
    "\n",
    "import os\n",
    "import datetime\n",
    "import time"
   ]
  },
  {
   "cell_type": "code",
   "execution_count": 5,
   "metadata": {},
   "outputs": [],
   "source": [
    "# https://github.com/aws-samples/kinesis-poster-worker/blob/master/worker.py\n",
    "\n",
    "class KinesisWorker:\n",
    "    \"\"\"Generic Consumer for Amazon Kinesis Streams\"\"\"\n",
    "    def __init__(self, stream_name, shard_id, iterator_type,\n",
    "                 worker_time=30, sleep_interval=0.5):\n",
    "   \n",
    "        self.stream_name = stream_name\n",
    "        self.shard_id = str(shard_id)\n",
    "        self.iterator_type = iterator_type\n",
    "        self.worker_time = worker_time\n",
    "        self.sleep_interval = sleep_interval\n",
    "        \n",
    "    def process_records(self, records):\n",
    "        pass\n",
    "    \n",
    "    @staticmethod\n",
    "    def iter_records(records):\n",
    "        for record in records:\n",
    "            part_key = record['PartitionKey']\n",
    "            data = record['Data']\n",
    "            yield part_key, data\n",
    "    \n",
    "    def run(self):\n",
    "        response = kinesis.get_shard_iterator(self.stream_name,\n",
    "            self.shard_id, self.iterator_type)\n",
    "        \n",
    "        next_iterator = response['ShardIterator']\n",
    "\n",
    "        start = datetime.datetime.now()\n",
    "        finish = start + datetime.timedelta(seconds=self.worker_time)\n",
    "        \n",
    "        while finish > datetime.datetime.now():\n",
    "            try:\n",
    "                response = kinesis.get_records(next_iterator, limit=25)\n",
    "        \n",
    "\n",
    "                records = response['Records']\n",
    "            \n",
    "                if records:\n",
    "                    self.process_records(records)\n",
    "            \n",
    "                next_iterator = response['NextShardIterator']\n",
    "                time.sleep(self.sleep_interval)\n",
    "            except ProvisionedThroughputExceededException as ptee:\n",
    "                time.sleep(1)"
   ]
  },
  {
   "cell_type": "code",
   "execution_count": 6,
   "metadata": {},
   "outputs": [],
   "source": [
    "class EchoWorker(KinesisWorker):\n",
    "    \"\"\"Consumers that echos received data to standard output\"\"\"\n",
    "    def process_records(self, records):\n",
    "        for part_key, data in self.iter_records(records):\n",
    "            print(part_key, \":\", data)"
   ]
  },
  {
   "cell_type": "code",
   "execution_count": 7,
   "metadata": {},
   "outputs": [],
   "source": [
    "shard_id = 'shardId-000000000000'\n",
    "iterator_type =  'LATEST'\n",
    "worker = EchoWorker(stream_name, shard_id, iterator_type, worker_time=10)"
   ]
  },
  {
   "cell_type": "code",
   "execution_count": 8,
   "metadata": {},
   "outputs": [
    {
     "name": "stdout",
     "output_type": "stream",
     "text": [
      "8.8.8.8 : 2018-07-28T21:42:42.357598\n",
      "8.8.8.8 : 2018-07-28T21:42:44.517408\n",
      "8.8.8.9 : 2018-07-28T21:42:45.628920\n",
      "8.8.8.8 : 2018-07-28T21:42:47.407898\n",
      "8.8.8.8 : 2018-07-28T21:42:49.528144\n"
     ]
    }
   ],
   "source": [
    "worker.run()"
   ]
  },
  {
   "cell_type": "code",
   "execution_count": 9,
   "metadata": {},
   "outputs": [],
   "source": [
    "from collections import defaultdict, Counter\n",
    "from dateutil import parser\n",
    "from operator import itemgetter\n",
    "\n",
    "class CounterWorker(KinesisWorker):\n",
    "    \"\"\"Consumer that counts IP occurances in 1-minute time buckets\"\"\"\n",
    "    \n",
    "    def __init__(self, stream_name, shard_id, iterator_type, worker_time):\n",
    "        sleep_interval = 20 # seconds\n",
    "        super().__init__(stream_name, shard_id, iterator_type, worker_time, sleep_interval)\n",
    "        \n",
    "    \n",
    "    @staticmethod\n",
    "    def print_counters(time_buckets):\n",
    "        \"\"\"helper method to show the counting results\"\"\"\n",
    "        for timestamp, ip_counts in time_buckets.items():\n",
    "            # sort counts with respect to the IP address\n",
    "            ip_counts = sorted(ip_counts.items(), key=itemgetter(0))\n",
    "            print(timestamp, ':', list(ip_counts))\n",
    "            \n",
    "    def process_records(self, records):\n",
    "        time_buckets = defaultdict(Counter)\n",
    "        for ip_addr, timestamp_str in self.iter_records(records):\n",
    "            timestamp = parser.parse(timestamp_str)\n",
    "            timestamp = timestamp.replace(second=0, microsecond=0)\n",
    "            time_buckets[timestamp][ip_addr] += 1\n",
    "        self.print_counters(time_buckets)         "
   ]
  },
  {
   "cell_type": "code",
   "execution_count": 10,
   "metadata": {},
   "outputs": [
    {
     "name": "stdout",
     "output_type": "stream",
     "text": [
      "2018-07-28 21:42:00 : [('8.8.8.8', 4), ('8.8.8.9', 1)]\n",
      "2018-07-28 21:43:00 : [('8.8.8.8', 6), ('8.8.8.9', 3)]\n",
      "2018-07-28 21:43:00 : [('8.8.8.8', 9), ('8.8.8.9', 3)]\n",
      "2018-07-28 21:43:00 : [('8.8.8.8', 10), ('8.8.8.9', 4)]\n",
      "2018-07-28 21:43:00 : [('8.8.8.8', 3), ('8.8.8.9', 2)]\n",
      "2018-07-28 21:44:00 : [('8.8.8.8', 6), ('8.8.8.9', 2)]\n",
      "2018-07-28 21:44:00 : [('8.8.8.8', 9), ('8.8.8.9', 4)]\n"
     ]
    }
   ],
   "source": [
    "worker = CounterWorker(stream_name, shard_id, iterator_type, worker_time=120)\n",
    "worker.run()"
   ]
  },
  {
   "cell_type": "code",
   "execution_count": 11,
   "metadata": {},
   "outputs": [
    {
     "name": "stdout",
     "output_type": "stream",
     "text": [
      "stream blogpost-word-stream not found. Exiting\n",
      "stream blogpost-word-stream not found. Exiting\n"
     ]
    }
   ],
   "source": [
    "# delete the stream at the end of the exercise to minimize AWS costs\n",
    "kinesis.delete_stream(stream_name)"
   ]
  },
  {
   "cell_type": "code",
   "execution_count": null,
   "metadata": {},
   "outputs": [],
   "source": []
  }
 ],
 "metadata": {
  "kernelspec": {
   "display_name": "Python (sqreen-backend)",
   "language": "python",
   "name": "sqreen-backend"
  },
  "language_info": {
   "codemirror_mode": {
    "name": "ipython",
    "version": 3
   },
   "file_extension": ".py",
   "mimetype": "text/x-python",
   "name": "python",
   "nbconvert_exporter": "python",
   "pygments_lexer": "ipython3",
   "version": "3.6.3"
  }
 },
 "nbformat": 4,
 "nbformat_minor": 2
}
